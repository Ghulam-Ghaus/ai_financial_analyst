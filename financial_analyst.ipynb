{
 "cells": [
  {
   "cell_type": "code",
   "execution_count": 2,
   "metadata": {},
   "outputs": [
    {
     "ename": "ModuleNotFoundError",
     "evalue": "No module named 'openai'",
     "output_type": "error",
     "traceback": [
      "\u001b[1;31m---------------------------------------------------------------------------\u001b[0m",
      "\u001b[1;31mModuleNotFoundError\u001b[0m                       Traceback (most recent call last)",
      "Cell \u001b[1;32mIn[2], line 4\u001b[0m\n\u001b[0;32m      2\u001b[0m \u001b[38;5;28;01mimport\u001b[39;00m \u001b[38;5;21;01mjson\u001b[39;00m\n\u001b[0;32m      3\u001b[0m \u001b[38;5;28;01mimport\u001b[39;00m \u001b[38;5;21;01mrequests\u001b[39;00m\n\u001b[1;32m----> 4\u001b[0m \u001b[38;5;28;01mfrom\u001b[39;00m \u001b[38;5;21;01mopenai\u001b[39;00m \u001b[38;5;28;01mimport\u001b[39;00m OpenAI\n\u001b[0;32m      5\u001b[0m \u001b[38;5;28;01mimport\u001b[39;00m \u001b[38;5;21;01mtime\u001b[39;00m\n\u001b[0;32m      7\u001b[0m _ : \u001b[38;5;28mbool\u001b[39m \u001b[38;5;241m=\u001b[39m load_dotenv(find_dotenv()) \u001b[38;5;66;03m# read local .env file\u001b[39;00m\n",
      "\u001b[1;31mModuleNotFoundError\u001b[0m: No module named 'openai'"
     ]
    }
   ],
   "source": [
    "import os\n",
    "import json\n",
    "import requests\n",
    "from openai import OpenAI\n",
    "import time\n",
    "\n",
    "# API keys are stored in Google Colab's Secret Manager\n",
    "OPENAI_API_KEY = userdata.get('OPENAI_API_KEY')\n",
    "FMP_API_KEY = userdata.get('FMP_API_KEY')\n",
    "\n",
    "os.environ[\"OPENAI_API_KEY\"] = OPENAI_API_KEY\n",
    "os.environ[\"FMP_API_KEY\"] = FMP_API_KEY\n",
    "\n",
    "client = OpenAI()"
   ]
  },
  {
   "cell_type": "code",
   "execution_count": 3,
   "metadata": {},
   "outputs": [
    {
     "ename": "IndentationError",
     "evalue": "expected an indented block after function definition on line 7 (2888340102.py, line 10)",
     "output_type": "error",
     "traceback": [
      "\u001b[1;36m  Cell \u001b[1;32mIn[3], line 10\u001b[1;36m\u001b[0m\n\u001b[1;33m    def get_cash_flow_statement(ticker, period, limit):\u001b[0m\n\u001b[1;37m    ^\u001b[0m\n\u001b[1;31mIndentationError\u001b[0m\u001b[1;31m:\u001b[0m expected an indented block after function definition on line 7\n"
     ]
    }
   ],
   "source": [
    "# Define financial statement functions\n",
    "def get_income_statement(ticker, period, limit):\n",
    "    url = f\"https://financialmodelingprep.com/api/v3/income-statement/{ticker}?period={period}&limit={limit}&apikey={FMP_API_KEY}\"\n",
    "    response = requests.get(url)\n",
    "    return json.dumps(response.json())\n",
    "\n",
    "def get_balance_sheet(ticker, period, limit):\n",
    "    # Code to fetch and return cash flow statement\n",
    "\n",
    "def get_cash_flow_statement(ticker, period, limit):\n",
    "    # Code to fetch and return cash flow statement\n",
    "\n",
    "def get_key_metrics(ticker, period, limit):\n",
    "    # Code to fetch and return cash flow statement\n",
    "\n",
    "def get_financial_ratios(ticker, period, limit):\n",
    "    # Code to fetch and return cash flow statement\n",
    "\n",
    "def get_financial_growth(ticker, period, limit):\n",
    "    # Code to fetch and return cash flow statement"
   ]
  },
  {
   "cell_type": "code",
   "execution_count": 4,
   "metadata": {},
   "outputs": [
    {
     "ename": "NameError",
     "evalue": "name 'get_income_statement' is not defined",
     "output_type": "error",
     "traceback": [
      "\u001b[1;31m---------------------------------------------------------------------------\u001b[0m",
      "\u001b[1;31mNameError\u001b[0m                                 Traceback (most recent call last)",
      "Cell \u001b[1;32mIn[4], line 3\u001b[0m\n\u001b[0;32m      1\u001b[0m \u001b[38;5;66;03m# Map available functions\u001b[39;00m\n\u001b[0;32m      2\u001b[0m available_functions \u001b[38;5;241m=\u001b[39m {\n\u001b[1;32m----> 3\u001b[0m     \u001b[38;5;124m\"\u001b[39m\u001b[38;5;124mget_income_statement\u001b[39m\u001b[38;5;124m\"\u001b[39m: get_income_statement,\n\u001b[0;32m      4\u001b[0m     \u001b[38;5;124m\"\u001b[39m\u001b[38;5;124mget_balance_sheet\u001b[39m\u001b[38;5;124m\"\u001b[39m: get_balance_sheet,\n\u001b[0;32m      5\u001b[0m     \u001b[38;5;124m\"\u001b[39m\u001b[38;5;124mget_cash_flow_statement\u001b[39m\u001b[38;5;124m\"\u001b[39m: get_cash_flow_statement,\n\u001b[0;32m      6\u001b[0m     \u001b[38;5;124m\"\u001b[39m\u001b[38;5;124mget_key_metrics\u001b[39m\u001b[38;5;124m\"\u001b[39m: get_key_metrics,\n\u001b[0;32m      7\u001b[0m     \u001b[38;5;124m\"\u001b[39m\u001b[38;5;124mget_financial_ratios\u001b[39m\u001b[38;5;124m\"\u001b[39m: get_cash_flow_statement,\n\u001b[0;32m      8\u001b[0m     \u001b[38;5;124m\"\u001b[39m\u001b[38;5;124mget_financial_growth\u001b[39m\u001b[38;5;124m\"\u001b[39m: get_financial_ratios\n\u001b[0;32m      9\u001b[0m }\n",
      "\u001b[1;31mNameError\u001b[0m: name 'get_income_statement' is not defined"
     ]
    }
   ],
   "source": [
    "# Map available functions\n",
    "available_functions = {\n",
    "    \"get_income_statement\": get_income_statement,\n",
    "    \"get_balance_sheet\": get_balance_sheet,\n",
    "    \"get_cash_flow_statement\": get_cash_flow_statement,\n",
    "    \"get_key_metrics\": get_key_metrics,\n",
    "    \"get_financial_ratios\": get_cash_flow_statement,\n",
    "    \"get_financial_growth\": get_financial_ratios\n",
    "}"
   ]
  },
  {
   "cell_type": "code",
   "execution_count": 5,
   "metadata": {},
   "outputs": [],
   "source": [
    "# Define the main function\n",
    "def run_assistant(user_message):\n",
    "\n",
    "  # Creating an assistant with specific instructions and tools\n",
    "  assistant = client.beta.assistants.create(\n",
    "      instructions=\"Act as a financial analyst by accessing detailed financial data through the Financial Modeling Prep API. Your capabilities include analyzing key metrics, comprehensive financial statements, vital financial ratios, and tracking financial growth trends. \",\n",
    "      model=\"gpt-4-1106-preview\",\n",
    "      tools=[\n",
    "            {\"type\": \"function\", \"function\": {\"name\": \"get_income_statement\", \"parameters\": {\"type\": \"object\", \"properties\": {\"ticker\": {\"type\": \"string\"}, \"period\": {\"type\": \"string\"}, \"limit\": {\"type\": \"integer\"}}}}},\n",
    "            # same for the rest of the financial functions\n",
    "            ])"
   ]
  },
  {
   "cell_type": "code",
   "execution_count": 6,
   "metadata": {},
   "outputs": [
    {
     "ename": "IndentationError",
     "evalue": "unexpected indent (351153848.py, line 2)",
     "output_type": "error",
     "traceback": [
      "\u001b[1;36m  Cell \u001b[1;32mIn[6], line 2\u001b[1;36m\u001b[0m\n\u001b[1;33m    thread = client.beta.threads.create()\u001b[0m\n\u001b[1;37m    ^\u001b[0m\n\u001b[1;31mIndentationError\u001b[0m\u001b[1;31m:\u001b[0m unexpected indent\n"
     ]
    }
   ],
   "source": [
    "# Creating a new thread\n",
    "  thread = client.beta.threads.create()"
   ]
  },
  {
   "cell_type": "code",
   "execution_count": 7,
   "metadata": {},
   "outputs": [
    {
     "ename": "NameError",
     "evalue": "name 'client' is not defined",
     "output_type": "error",
     "traceback": [
      "\u001b[1;31m---------------------------------------------------------------------------\u001b[0m",
      "\u001b[1;31mNameError\u001b[0m                                 Traceback (most recent call last)",
      "Cell \u001b[1;32mIn[7], line 2\u001b[0m\n\u001b[0;32m      1\u001b[0m \u001b[38;5;66;03m# Adding a user message to the thread\u001b[39;00m\n\u001b[1;32m----> 2\u001b[0m client\u001b[38;5;241m.\u001b[39mbeta\u001b[38;5;241m.\u001b[39mthreads\u001b[38;5;241m.\u001b[39mmessages\u001b[38;5;241m.\u001b[39mcreate(\n\u001b[0;32m      3\u001b[0m     thread_id\u001b[38;5;241m=\u001b[39mthread\u001b[38;5;241m.\u001b[39mid,\n\u001b[0;32m      4\u001b[0m     role\u001b[38;5;241m=\u001b[39m\u001b[38;5;124m\"\u001b[39m\u001b[38;5;124muser\u001b[39m\u001b[38;5;124m\"\u001b[39m,\n\u001b[0;32m      5\u001b[0m     content\u001b[38;5;241m=\u001b[39muser_message\n\u001b[0;32m      6\u001b[0m )\n",
      "\u001b[1;31mNameError\u001b[0m: name 'client' is not defined"
     ]
    }
   ],
   "source": [
    "  # Adding a user message to the thread\n",
    "  client.beta.threads.messages.create(\n",
    "      thread_id=thread.id,\n",
    "      role=\"user\",\n",
    "      content=user_message\n",
    "  )"
   ]
  },
  {
   "cell_type": "code",
   "execution_count": 8,
   "metadata": {},
   "outputs": [
    {
     "ename": "IndentationError",
     "evalue": "unexpected indent (170776373.py, line 2)",
     "output_type": "error",
     "traceback": [
      "\u001b[1;36m  Cell \u001b[1;32mIn[8], line 2\u001b[1;36m\u001b[0m\n\u001b[1;33m    run = client.beta.threads.runs.create(thread_id=thread.id, assistant_id=assistant.id)\u001b[0m\n\u001b[1;37m    ^\u001b[0m\n\u001b[1;31mIndentationError\u001b[0m\u001b[1;31m:\u001b[0m unexpected indent\n"
     ]
    }
   ],
   "source": [
    " # Running the assistant on the created thread\n",
    "  run = client.beta.threads.runs.create(thread_id=thread.id, assistant_id=assistant.id)"
   ]
  },
  {
   "cell_type": "code",
   "execution_count": 9,
   "metadata": {},
   "outputs": [
    {
     "ename": "IndentationError",
     "evalue": "unexpected indent (3908912589.py, line 2)",
     "output_type": "error",
     "traceback": [
      "\u001b[1;36m  Cell \u001b[1;32mIn[9], line 2\u001b[1;36m\u001b[0m\n\u001b[1;33m    while True:\u001b[0m\n\u001b[1;37m    ^\u001b[0m\n\u001b[1;31mIndentationError\u001b[0m\u001b[1;31m:\u001b[0m unexpected indent\n"
     ]
    }
   ],
   "source": [
    "# Loop until the run completes or requires action\n",
    "    while True:\n",
    "        run = client.beta.threads.runs.retrieve(thread_id=thread.id, run_id=run.id)\n",
    "\n",
    "        # Add run steps retrieval here\n",
    "        run_steps = client.beta.threads.runs.steps.list(thread_id=thread.id, run_id=run.id)\n",
    "        print(\"Run Steps:\", run_steps)\n",
    "\n",
    "        if run.status == \"requires_action\":\n",
    "            tool_calls = run.required_action.submit_tool_outputs.tool_calls\n",
    "            tool_outputs = []\n",
    "\n",
    "            for tool_call in tool_calls:\n",
    "                function_name = tool_call.function.name\n",
    "                function_args = json.loads(tool_call.function.arguments)\n",
    "\n",
    "                if function_name in available_functions:\n",
    "                    function_to_call = available_functions[function_name]\n",
    "                    output = function_to_call(**function_args)\n",
    "                    tool_outputs.append({\n",
    "                        \"tool_call_id\": tool_call.id,\n",
    "                        \"output\": output,\n",
    "                    })\n",
    "\n",
    "            # Submit tool outputs and update the run\n",
    "            client.beta.threads.runs.submit_tool_outputs(\n",
    "                thread_id=thread.id,\n",
    "                run_id=run.id,\n",
    "                tool_outputs=tool_outputs\n",
    "            )\n",
    "\n",
    "        elif run.status == \"completed\":\n",
    "            # List the messages to get the response\n",
    "            messages = client.beta.threads.messages.list(thread_id=thread.id)\n",
    "            for message in messages.data:\n",
    "                role_label = \"User\" if message.role == \"user\" else \"Assistant\"\n",
    "                message_content = message.content[0].text.value\n",
    "                print(f\"{role_label}: {message_content}\\n\")\n",
    "            break  # Exit the loop after processing the completed run\n",
    "\n",
    "        elif run.status == \"failed\":\n",
    "            print(\"Run failed.\")\n",
    "            break\n",
    "\n",
    "        elif run.status in [\"in_progress\", \"queued\"]:\n",
    "            print(f\"Run is {run.status}. Waiting...\")\n",
    "            time.sleep(5)  # Wait for 5 seconds before checking again\n",
    "\n",
    "        else:\n",
    "            print(f\"Unexpected status: {run.status}\")\n",
    "            break"
   ]
  }
 ],
 "metadata": {
  "kernelspec": {
   "display_name": "base",
   "language": "python",
   "name": "python3"
  },
  "language_info": {
   "codemirror_mode": {
    "name": "ipython",
    "version": 3
   },
   "file_extension": ".py",
   "mimetype": "text/x-python",
   "name": "python",
   "nbconvert_exporter": "python",
   "pygments_lexer": "ipython3",
   "version": "3.11.5"
  }
 },
 "nbformat": 4,
 "nbformat_minor": 2
}
